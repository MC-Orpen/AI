{
  "nbformat": 4,
  "nbformat_minor": 0,
  "metadata": {
    "colab": {
      "name": "CW_01.ipynb",
      "provenance": [],
      "collapsed_sections": [],
      "toc_visible": true
    },
    "kernelspec": {
      "display_name": "Python 3",
      "language": "python",
      "name": "python3"
    },
    "language_info": {
      "codemirror_mode": {
        "name": "ipython",
        "version": 3
      },
      "file_extension": ".py",
      "mimetype": "text/x-python",
      "name": "python",
      "nbconvert_exporter": "python",
      "pygments_lexer": "ipython3",
      "version": "3.7.7"
    }
  },
  "cells": [
    {
      "cell_type": "code",
      "metadata": {
        "colab": {
          "base_uri": "https://localhost:8080/"
        },
        "id": "PzuMVqiEH7WX",
        "outputId": "545a1b69-d832-4b51-ecfb-a9541e3fb760"
      },
      "source": [
        "# Uncomment if use Colab\n",
        "from google.colab import drive\n",
        "drive.mount('/content/gdrive', force_remount=True) #mount google drive\n"
      ],
      "execution_count": 1,
      "outputs": [
        {
          "output_type": "stream",
          "text": [
            "Mounted at /content/gdrive\n"
          ],
          "name": "stdout"
        }
      ]
    },
    {
      "cell_type": "code",
      "metadata": {
        "id": "4d2kQ8WqNRwh"
      },
      "source": [
        "# Nothing better to begin with than by importing some necessary dependencies. \n",
        "%matplotlib inline\n",
        "import torch\n",
        "import matplotlib.pyplot as plt\n",
        "from torch.utils import data\n",
        "import torch.nn as nn\n",
        "import random\n",
        "import numpy as np\n",
        "import pandas as pd\n",
        "import seaborn as sns\n",
        "import torch.nn.functional as F\n"
      ],
      "execution_count": 2,
      "outputs": []
    },
    {
      "cell_type": "code",
      "metadata": {
        "id": "3lxK0rwYNRwn"
      },
      "source": [
        "Nf = 2000 # the number of different functions f that we will generate\n",
        "Npts = 40 # the number of x values that we will use to generate each fa\n",
        "x = torch.zeros(Nf, Npts, 1)\n",
        "for k in range(Nf):\n",
        "    x[k,:,0] = torch.linspace(-2, 2, Npts)\n",
        "\n",
        "x += torch.rand_like(x)*0.1\n",
        "a = -2 + 4*torch.rand(Nf).view(-1,1).repeat(1, Npts).unsqueeze(2)\n",
        "y = a*torch.sin(x+a)"
      ],
      "execution_count": 3,
      "outputs": []
    },
    {
      "cell_type": "markdown",
      "metadata": {
        "id": "i-1apmnTH7Wi"
      },
      "source": [
        "# Test data  \n",
        "\n",
        "* Test data are stored in a dictionary where each key has the data for a single function $f_a$. We have generated 6 different functions named as `function_num_1`, `function_num_2` and so on. "
      ]
    },
    {
      "cell_type": "code",
      "metadata": {
        "id": "XY05kL8DH7Wi"
      },
      "source": [
        "import pickle\n",
        "path_to_the_pickle = '/content/gdrive/MyDrive/Colab Notebooks/AI/CW/test_data.pkl'\n",
        "test_data =pickle.load(open(path_to_the_pickle,'rb'))\n",
        "# 6 test functions\n",
        "i = 2 # i=1,..6\n",
        "name= 'function_num_{}'.format(i)\n",
        "x_c=test_data[name]['context_pairs'][0]\n",
        "y_c=test_data[name]['context_pairs'][1]\n",
        "x_t =test_data[name]['x']"
      ],
      "execution_count": 4,
      "outputs": []
    },
    {
      "cell_type": "markdown",
      "metadata": {
        "id": "7wExjz_sWkOE"
      },
      "source": [
        "# Task 1: Creating the training dataset and dataloader\n",
        "\n",
        "There are 2000 functions in the training dataset. From the training dataset, 80% of the data will be used to train the model with 20% held out as a validation set."
      ]
    },
    {
      "cell_type": "code",
      "metadata": {
        "id": "tKUxoAMHXROk"
      },
      "source": [
        "# Train-test split point\n",
        "n_train = int(0.8*2000)\n",
        "\n",
        "# Dataset object\n",
        "train_dataset = data.TensorDataset(x[:n_train], y[:n_train])\n",
        "val_dataset = data.TensorDataset(x[n_train:], y[n_train:])\n",
        "\n",
        "# Batch size\n",
        "batch_size= 64\n",
        "\n",
        "# DataLoader object\n",
        "train_data_iter = data.DataLoader(train_dataset, batch_size, shuffle=True)\n",
        "val_data_iter = data.DataLoader(val_dataset, batch_size, shuffle=True)\n"
      ],
      "execution_count": 5,
      "outputs": []
    },
    {
      "cell_type": "markdown",
      "metadata": {
        "id": "4cuxVlwFaNqO"
      },
      "source": [
        "# Task 2: Creating the Encoder and Decoder classes\n",
        "\n",
        "Two classes were made for the encoder and decoder."
      ]
    },
    {
      "cell_type": "markdown",
      "metadata": {
        "id": "r37jGZg_AZNw"
      },
      "source": [
        "## Encoder class\n",
        "\n",
        "The Encoder is a MLP with 2 hidden layers. The inputs to the encoder are the context points, x_c and y_c with the number of outputs, $ r_{dim} $, chosen to be 2 initially."
      ]
    },
    {
      "cell_type": "code",
      "metadata": {
        "id": "lnw4HdipYROu"
      },
      "source": [
        "class Encoder(torch.nn.Module):\n",
        "  def __init__(self, num_inputs, hidden_layer1, hidden_layer2, num_outputs):\n",
        "    super(Encoder, self).__init__()\n",
        "\n",
        "    self.num_inputs = num_inputs\n",
        "    self.num_outputs = num_outputs\n",
        "    self.hidden_layer1 = hidden_layer1 \n",
        "    self.hidden_layer2 = hidden_layer2\n",
        "    self.Linear1 = nn.Linear(num_inputs, hidden_layer1)\n",
        "    self.Linear2 = nn.Linear(hidden_layer1, hidden_layer2)\n",
        "    self.Linear3 = nn.Linear(hidden_layer2, num_outputs)\n",
        "\n",
        "  def forward(self, x):\n",
        "    x1 = F.relu(self.Linear1(x)) \n",
        "    x2 = F.relu(self.Linear2(x1)) \n",
        "    x3 = self.Linear3(x2)\n",
        "    return x3\n"
      ],
      "execution_count": 6,
      "outputs": []
    },
    {
      "cell_type": "markdown",
      "metadata": {
        "id": "1lnoOs06k5O-"
      },
      "source": [
        "## Decoder class\n",
        "\n",
        "The Decoder is a MLP with 2 hidden layers. The inputs to the decoder is the r_C values generated from the encoder and the x_t values. "
      ]
    },
    {
      "cell_type": "code",
      "metadata": {
        "id": "5ihWPPBqEqwm"
      },
      "source": [
        "class Decoder(torch.nn.Module):\n",
        "  def __init__(self, num_inputs, hidden_layer1, hidden_layer2, num_outputs):\n",
        "    super(Decoder, self).__init__()\n",
        "    self.num_inputs = num_inputs\n",
        "    self.num_outputs = num_outputs\n",
        "    self.hidden_layer1 = hidden_layer1\n",
        "    self.hidden_layer2 = hidden_layer2\n",
        "    self.Linear1 = nn.Linear(num_inputs, hidden_layer1)\n",
        "    self.Linear2 = nn.Linear(hidden_layer1, hidden_layer2)\n",
        "    self.Linear3 = nn.Linear(hidden_layer2, num_outputs)\n",
        " \n",
        "  def forward(self, x):\n",
        "    x1 = F.relu(self.Linear1(x))\n",
        "    x2 = F.relu(self.Linear2(x1))\n",
        "    x3 = self.Linear3(x2)\n",
        "    return x3\n"
      ],
      "execution_count": 7,
      "outputs": []
    },
    {
      "cell_type": "code",
      "metadata": {
        "id": "eACtZk6XjnuF"
      },
      "source": [
        "# Number of dimensions of the output\n",
        "r_dim = 2\n",
        "\n",
        "# numbers of inputs, hidden layers and outputs.\n",
        "num_inputs, hidden_layer1, hidden_layer2, num_outputs = 2, 20, 20, r_dim\n",
        "\n",
        "# instantiating the encoder & decoder\n",
        "encoder = Encoder(num_inputs, hidden_layer1, hidden_layer2, num_outputs)\n",
        "decoder = Decoder(r_dim+1, hidden_layer1, hidden_layer2, 1)"
      ],
      "execution_count": 8,
      "outputs": []
    },
    {
      "cell_type": "markdown",
      "metadata": {
        "id": "srAh1QPWapSE"
      },
      "source": [
        "# Task 3: Optimizer and the loss\n",
        "\n"
      ]
    },
    {
      "cell_type": "markdown",
      "metadata": {
        "id": "KVpCqiIYlknK"
      },
      "source": [
        "### Initialisation of weights for the Encoder and Decoder\n"
      ]
    },
    {
      "cell_type": "code",
      "metadata": {
        "colab": {
          "base_uri": "https://localhost:8080/"
        },
        "id": "m9Z-9tDpLn7P",
        "outputId": "b9513bb6-66d4-4778-8c3a-d56f2a56a03b"
      },
      "source": [
        "# initialise weights for both encoder & decoder\n",
        "def init_weights(m):\n",
        "    if isinstance(m, nn.Linear): \n",
        "        torch.nn.init.normal_(m.weight, std=0.01)\n",
        "        torch.nn.init.zeros_(m.bias)\n",
        "\n",
        "encoder.apply(init_weights)\n",
        "decoder.apply(init_weights)"
      ],
      "execution_count": 9,
      "outputs": [
        {
          "output_type": "execute_result",
          "data": {
            "text/plain": [
              "Decoder(\n",
              "  (Linear1): Linear(in_features=3, out_features=20, bias=True)\n",
              "  (Linear2): Linear(in_features=20, out_features=20, bias=True)\n",
              "  (Linear3): Linear(in_features=20, out_features=1, bias=True)\n",
              ")"
            ]
          },
          "metadata": {
            "tags": []
          },
          "execution_count": 9
        }
      ]
    },
    {
      "cell_type": "markdown",
      "metadata": {
        "id": "L9LO-5j2n_QJ"
      },
      "source": [
        "### Loss, weight decay and optimizer \n",
        "A loss of 0.01 was selected, with zero weight decay in this version of the model. The optimizer chosen was Adam as SGD performed poorly."
      ]
    },
    {
      "cell_type": "code",
      "metadata": {
        "id": "WNBaVvyRuVDB"
      },
      "source": [
        "# Mean Squared Loss\n",
        "loss = nn.MSELoss() \n",
        "\n",
        "# Loss and weight decay\n",
        "lr, wd = 0.01, 0\n",
        "\n",
        "\n",
        "encoder_optimizer = torch.optim.Adam(encoder.parameters(), lr=lr, weight_decay=wd)\n",
        "decoder_optimizer = torch.optim.Adam(decoder.parameters(), lr=lr, weight_decay=wd)"
      ],
      "execution_count": 10,
      "outputs": []
    },
    {
      "cell_type": "markdown",
      "metadata": {
        "id": "JZBh-bZobZ1y"
      },
      "source": [
        "# Task 4: Training the model\n",
        "\n",
        "The model was trained using the training dataset with 1000 epochs. The training loss across each epoch is returned and is plotted below."
      ]
    },
    {
      "cell_type": "code",
      "metadata": {
        "id": "cgTbuLTwuUgZ"
      },
      "source": [
        "def train(encoder, decoder, train_iter, loss, encoder_optimizer, decoder_optimizer, epochs):\n",
        "  training_loss_list = []\n",
        "  epoch_count = 0\n",
        "  for epoch in range(epochs):\n",
        "    epoch_count+=1\n",
        "    loss_score = 0.0\n",
        "\n",
        "    for X,y in train_iter:\n",
        "\n",
        "      # number of context points\n",
        "      num_of_contexts = random.randint(5,35)\n",
        "\n",
        "      # indices of context points\n",
        "      c_idxs = random.sample(range(0,40), num_of_contexts)\n",
        "\n",
        "      # Empty tensors for the context points\n",
        "      x_contexts = torch.empty(len(X), num_of_contexts)\n",
        "      y_contexts = torch.empty(len(X), num_of_contexts)\n",
        "\n",
        "      # putting the context points into tensors\n",
        "      for i in range(len(X)):\n",
        "        x_np_vals = np.take(X[i].numpy(),c_idxs)\n",
        "        y_np_vals = np.take(y[i].numpy(),c_idxs)\n",
        "        x_vals = torch.from_numpy(x_np_vals)\n",
        "        y_vals = torch.from_numpy(y_np_vals)\n",
        "        x_contexts[i,:] = x_vals\n",
        "        y_contexts[i,:] = y_vals\n",
        "\n",
        "      # context_feats returns tensor in shape torch.Size([batch_size, num_of_contexts, 2])\n",
        "      context_feats = torch.stack([x_contexts, y_contexts], dim=2)\n",
        "      # print(f'context_feats.shape: {context_feats.shape}')\n",
        "\n",
        "      # r_c values from the encoder\n",
        "      r_c = encoder(context_feats)\n",
        "\n",
        "      # Mean of r_c values \n",
        "      r_C_mean = torch.mean(r_c,1)\n",
        "\n",
        "      # changing the shape of the tensor\n",
        "      r_C_unsq = r_C_mean.unsqueeze(1)\n",
        "      r_C = r_C_unsq.repeat((1,40,1))\n",
        "\n",
        "      # joining the r_C and X tensors as the input to the decoder\n",
        "      dec_input = torch.cat((r_C,X),2)\n",
        "\n",
        "      # Calculation of predicted y values\n",
        "      y_hat = decoder(dec_input)\n",
        "\n",
        "      # loss calculation\n",
        "      l = loss(y_hat,y)\n",
        "\n",
        "      # gradients set to zero\n",
        "      encoder_optimizer.zero_grad()\n",
        "      decoder_optimizer.zero_grad()\n",
        "\n",
        "      # weights are updated\n",
        "      l.backward()\n",
        "\n",
        "      # Parameters are updated using current gradients\n",
        "      encoder_optimizer.step()\n",
        "      decoder_optimizer.step()\n",
        "\n",
        "      # training loss is added\n",
        "      loss_score += l\n",
        "    \n",
        "    # average training loss score is calculated\n",
        "    train_loss = loss_score/len(train_iter)\n",
        "\n",
        "    # training loss for each epoch is added\n",
        "    training_loss_list.append(train_loss.detach().numpy())\n",
        "    if epoch_count % 100 ==0: \n",
        "      print(f'Epoch: {epoch_count}, loss: {train_loss:.5f}')\n",
        "  return np.asarray(training_loss_list)"
      ],
      "execution_count": 11,
      "outputs": []
    },
    {
      "cell_type": "code",
      "metadata": {
        "colab": {
          "base_uri": "https://localhost:8080/"
        },
        "id": "vblJzWSJHrDh",
        "outputId": "7a04bef2-322c-411e-af93-2a04c349d45e"
      },
      "source": [
        "model = train(encoder, decoder, train_data_iter, loss, encoder_optimizer,decoder_optimizer, 1000)\n",
        "\n",
        "# Average training loss over the last 50 epochs.\n",
        "train_loss_avg = np.mean(model[-50:])\n",
        "print(f'Training loss over the last 50 epochs: {train_loss_avg:0.5f}')"
      ],
      "execution_count": 12,
      "outputs": [
        {
          "output_type": "stream",
          "text": [
            "Epoch: 100, loss: 0.02512\n",
            "Epoch: 200, loss: 0.01340\n",
            "Epoch: 300, loss: 0.01452\n",
            "Epoch: 400, loss: 0.00997\n",
            "Epoch: 500, loss: 0.01259\n",
            "Epoch: 600, loss: 0.00566\n",
            "Epoch: 700, loss: 0.00619\n",
            "Epoch: 800, loss: 0.01919\n",
            "Epoch: 900, loss: 0.01050\n",
            "Epoch: 1000, loss: 0.01091\n",
            "Training loss over the last 50 epochs: 0.00899\n"
          ],
          "name": "stdout"
        }
      ]
    },
    {
      "cell_type": "code",
      "metadata": {
        "colab": {
          "base_uri": "https://localhost:8080/",
          "height": 410
        },
        "id": "K3SYEeLuH6OZ",
        "outputId": "2ce0fe79-46a9-46ce-908d-1fc6503c0aaf"
      },
      "source": [
        "sns.set()\n",
        "plt.figure(figsize=(10,6))\n",
        "plt.plot(np.arange(1000), model)\n",
        "plt.xlabel('Epoch')\n",
        "plt.ylabel('Training Loss')\n",
        "plt.title('Training loss across all epochs')\n",
        "plt.xlim(left=-50);"
      ],
      "execution_count": 13,
      "outputs": [
        {
          "output_type": "display_data",
          "data": {
            "image/png": "[encoded data removed]",
            "text/plain": [
              "<Figure size 720x432 with 1 Axes>"
            ]
          },
          "metadata": {
            "tags": []
          }
        }
      ]
    },
    {
      "cell_type": "code",
      "metadata": {
        "colab": {
          "base_uri": "https://localhost:8080/",
          "height": 410
        },
        "id": "4oIgEcaF__SR",
        "outputId": "4386b8ea-e21c-49d2-8230-bd8dafa90720"
      },
      "source": [
        "sns.set()\n",
        "plt.figure(figsize=(10,6))\n",
        "plt.plot(np.arange(200), model[:200])\n",
        "plt.xlabel('Epoch')\n",
        "plt.ylabel('Training Loss')\n",
        "plt.title('Initial training loss')\n",
        "plt.xlim(left=-20);"
      ],
      "execution_count": 14,
      "outputs": [
        {
          "output_type": "display_data",
          "data": {
            "image/png": "[encoded data removed]",
            "text/plain": [
              "<Figure size 720x432 with 1 Axes>"
            ]
          },
          "metadata": {
            "tags": []
          }
        }
      ]
    },
    {
      "cell_type": "code",
      "metadata": {
        "colab": {
          "base_uri": "https://localhost:8080/",
          "height": 410
        },
        "id": "DiCHDOq5AJU6",
        "outputId": "b2d81308-8d31-4ce9-f33a-661fe434c3f6"
      },
      "source": [
        "def moving_average(epoch_loss, window):\n",
        "    return np.convolve(epoch_loss, np.ones(window), 'valid') / window\n",
        "\n",
        "sns.set()\n",
        "plt.figure(figsize=(10,6))\n",
        "plt.plot(np.arange(224,975), moving_average(model[200:], 50))\n",
        "\n",
        "plt.xlabel('Epoch')\n",
        "plt.ylabel('Training Loss')\n",
        "plt.title('Training loss trends')\n",
        "plt.ylim(bottom=0,top=0.05);"
      ],
      "execution_count": 15,
      "outputs": [
        {
          "output_type": "display_data",
          "data": {
            "image/png": "[encoded data removed]",
            "text/plain": [
              "<Figure size 720x432 with 1 Axes>"
            ]
          },
          "metadata": {
            "tags": []
          }
        }
      ]
    },
    {
      "cell_type": "markdown",
      "metadata": {
        "id": "S9KQYIxHraV9"
      },
      "source": [
        "# Validating the model\n",
        "With the model trained, data from from the validation dataset is passed to the model."
      ]
    },
    {
      "cell_type": "code",
      "metadata": {
        "id": "l9RSzjrhVBbt"
      },
      "source": [
        "def validation_score(encoder, decoder, val_iter, val_c_idxs, loss, encoder_optimizer, decoder_optimizer):\n",
        "  validation_loss = 0.0\n",
        "\n",
        "  with torch.no_grad():\n",
        "    for X,y in val_iter:\n",
        "\n",
        "      # indices of context points\n",
        "      c_idxs = val_c_idxs\n",
        "      num_of_contexts = len(val_c_idxs)\n",
        "\n",
        "      # Empty tensors for the context points\n",
        "      x_contexts = torch.empty(len(X), num_of_contexts)\n",
        "      y_contexts = torch.empty(len(X), num_of_contexts)\n",
        "\n",
        "      for i in range(len(X)):\n",
        "        x_np_vals = np.take(X[i].numpy(),c_idxs)\n",
        "        y_np_vals = np.take(y[i].numpy(),c_idxs)\n",
        "        x_vals = torch.from_numpy(x_np_vals)\n",
        "        y_vals = torch.from_numpy(y_np_vals)\n",
        "        x_contexts[i,:] = x_vals\n",
        "        y_contexts[i,:] = y_vals\n",
        "\n",
        "      context_feats = torch.stack([x_contexts, y_contexts], dim=2)\n",
        "\n",
        "      # r_c values from the encoder\n",
        "      r_c = encoder(context_feats)\n",
        "\n",
        "      # Mean of r_c values \n",
        "      r_C_mean = torch.mean(r_c,1)\n",
        "\n",
        "      # Changing tensor dimensions \n",
        "      r_C_unsq = r_C_mean.unsqueeze(1)\n",
        "      r_C = r_C_unsq.repeat((1,40,1))\n",
        "\n",
        "      # joining the r_C and X tensors as the input to the decoder\n",
        "      decoder_input = torch.cat((r_C,X),2)\n",
        "\n",
        "      # Calculation of predicted y values\n",
        "      y_hat = decoder(decoder_input)\n",
        "      \n",
        "      # loss calculation\n",
        "      l = loss(y_hat,y)\n",
        "\n",
        "      validation_loss += l\n",
        "  val_loss = validation_loss/len(val_iter)\n",
        "\n",
        "  return val_loss"
      ],
      "execution_count": 16,
      "outputs": []
    },
    {
      "cell_type": "code",
      "metadata": {
        "colab": {
          "base_uri": "https://localhost:8080/"
        },
        "id": "QabwE-zWVCEo",
        "outputId": "ad8d4d04-4331-4d3d-8df6-dbf15ca80c3a"
      },
      "source": [
        "def create_val_c_idxs(number_of_samples):\n",
        "  \"\"\" Function that creates lists of random indices of the context points used in validation\"\"\"\n",
        "  val_c_idxs = []\n",
        "  for sample in range(number_of_samples):\n",
        "    num_of_contexts = random.randint(5,35)\n",
        "    c_idxs = random.sample(range(0,40), num_of_contexts)\n",
        "    val_c_idxs.append(c_idxs)\n",
        "  return val_c_idxs\n",
        "\n",
        "def val_score_mean(idxs_list):\n",
        "  \"\"\"Function that returns the average of the validation scores from different context indices\"\"\"\n",
        "  val_score_list = []\n",
        "  for i in range(len(idxs_list)):\n",
        "    sample_score = validation_score(encoder, decoder, val_data_iter, idxs_list[i], loss, encoder_optimizer, decoder_optimizer)\n",
        "    sample_score = sample_score.detach().numpy()\n",
        "    val_score_list.append(sample_score)\n",
        "  mean_score = np.mean(np.asarray(val_score_list))\n",
        "  return mean_score\n",
        "\n",
        "# 500 different lists indices are generated\n",
        "idxs_list = create_val_c_idxs(500)\n",
        "\n",
        "# Mean of the validation scores\n",
        "mean_score = val_score_mean(idxs_list)\n",
        "print(f'Average validation training loss: {mean_score:0.5f}')\n"
      ],
      "execution_count": 17,
      "outputs": [
        {
          "output_type": "stream",
          "text": [
            "Average validation training loss: 0.00673\n"
          ],
          "name": "stdout"
        }
      ]
    },
    {
      "cell_type": "markdown",
      "metadata": {
        "id": "cPOS69c94lpb"
      },
      "source": [
        "# Testing the model\n",
        "\n",
        "With the model trained and validated, unseen test data is processed and generated."
      ]
    },
    {
      "cell_type": "code",
      "metadata": {
        "id": "5UQMxAMzot00"
      },
      "source": [
        "import pickle\n",
        "path_to_the_pickle = '/content/gdrive/MyDrive/Colab Notebooks/AI/CW/test_data.pkl'\n",
        "test_data =pickle.load(open(path_to_the_pickle,'rb'))\n",
        "\n",
        "i = 1\n",
        "name= 'function_num_{}'.format(i)\n",
        "x_c=test_data[name]['context_pairs'][0]\n",
        "y_c=test_data[name]['context_pairs'][1]\n",
        "x_t =test_data[name]['x']\n",
        "\n"
      ],
      "execution_count": 18,
      "outputs": []
    },
    {
      "cell_type": "code",
      "metadata": {
        "id": "v0ksq23CouDm"
      },
      "source": [
        "# reshaping the context points\n",
        "x_c = x_c.view(-1)\n",
        "y_c = y_c.view(-1)\n",
        "\n",
        "# creating the context pairs as input to the encoder\n",
        "context_pairs = torch.stack([x_c, y_c], dim=1)\n",
        "\n",
        "# reshaping the x_t values for the decoder\n",
        "x_t = x_t.resize_((40,1))\n",
        "\n",
        "# r_c output from the encoder\n",
        "r_c = encoder(context_pairs)\n",
        "\n",
        "# mean of r_c values \n",
        "r_C_mean = torch.mean(r_c,0)\n",
        "\n",
        "# changing tensor dimensions\n",
        "r_C = r_C_mean.repeat([40,1])\n",
        "\n",
        "# input to the decoder\n",
        "dec_input = torch.cat([r_C, x_t], 1)\n",
        "\n",
        "# predicted y values\n",
        "y_preds = decoder(dec_input)\n",
        "\n",
        "# x and y values as arrays\n",
        "y_preds = y_preds.squeeze().detach().numpy()\n",
        "x_t_array = x_t.squeeze().detach().numpy()\n",
        "\n",
        "# context points as arrays\n",
        "x_c_array = x_c.detach().numpy()\n",
        "y_c_array = y_c.detach().numpy()"
      ],
      "execution_count": 19,
      "outputs": []
    },
    {
      "cell_type": "code",
      "metadata": {
        "colab": {
          "base_uri": "https://localhost:8080/",
          "height": 355
        },
        "id": "12HhOLsOouJ5",
        "outputId": "629a0b31-2f61-4891-c7df-5287d632883b"
      },
      "source": [
        "sns.set()\n",
        "plt.figure(figsize=(10,5))\n",
        "plt.plot(x_t_array, y_preds)\n",
        "\n",
        "plt.scatter(x_c_array,y_c_array, c='r')\n",
        "plt.xlabel('x')\n",
        "plt.ylabel('y', rotation=0)\n",
        "plt.title(f'Function number {i}');"
      ],
      "execution_count": 20,
      "outputs": [
        {
          "output_type": "display_data",
          "data": {
            "image/png": "[encoded data removed]",
            "text/plain": [
              "<Figure size 720x360 with 1 Axes>"
            ]
          },
          "metadata": {
            "tags": []
          }
        }
      ]
    }
  ]
}